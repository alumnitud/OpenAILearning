{
 "cells": [
  {
   "cell_type": "markdown",
   "id": "8a157fb8",
   "metadata": {},
   "source": [
    "# Airport codes detection with Azure Open AI"
   ]
  },
  {
   "cell_type": "code",
   "execution_count": null,
   "id": "c481d028",
   "metadata": {},
   "outputs": [],
   "source": [
    "!pip install openai --upgrade\n",
    "!pip show openai\n",
    "!pip install python-dotenv"
   ]
  },
  {
   "cell_type": "code",
   "execution_count": 2,
   "id": "e08cdbd6",
   "metadata": {},
   "outputs": [],
   "source": [
    "import datetime\n",
    "import os\n",
    "import openai\n",
    "import sys\n",
    "\n",
    "from openai import AzureOpenAI\n",
    "from dotenv import load_dotenv"
   ]
  },
  {
   "cell_type": "code",
   "execution_count": 3,
   "id": "612379fa",
   "metadata": {},
   "outputs": [
    {
     "name": "stdout",
     "output_type": "stream",
     "text": [
      "Today is 21-May-2024 11:41:45\n"
     ]
    }
   ],
   "source": [
    "print(f\"Today is {datetime.datetime.today().strftime('%d-%b-%Y %H:%M:%S')}\")"
   ]
  },
  {
   "cell_type": "markdown",
   "id": "bfedb4ab",
   "metadata": {},
   "source": [
    "## Function"
   ]
  },
  {
   "cell_type": "markdown",
   "id": "7db67d0f",
   "metadata": {},
   "source": [
    "Loading environment variables:"
   ]
  },
  {
   "cell_type": "code",
   "execution_count": 4,
   "id": "eb543d29",
   "metadata": {},
   "outputs": [],
   "source": [
    "dotenv_path = \".env\"\n",
    "load_dotenv(dotenv_path=dotenv_path)\n",
    "\n",
    "client = openai.AzureOpenAI(\n",
    "        azure_endpoint= os.getenv(\"OPENAI_API_ENDPOINT\"),\n",
    "        api_key= os.getenv(\"OPENAI_API_KEY\"),\n",
    "        api_version= os.getenv(\"OPENAI_API_VERSION\"),\n",
    "    )"
   ]
  },
  {
   "cell_type": "markdown",
   "id": "6653b239",
   "metadata": {},
   "source": [
    "Basic Form of using Chat Completion"
   ]
  },
  {
   "cell_type": "code",
   "execution_count": 5,
   "id": "3375b8e4",
   "metadata": {},
   "outputs": [
    {
     "name": "stdout",
     "output_type": "stream",
     "text": [
      "ChatCompletionMessage(content='Hello! How can I help you today?', role='assistant', function_call=None, tool_calls=None)\n"
     ]
    }
   ],
   "source": [
    "completion = client.chat.completions.create(\n",
    "  model=\"gpt-4-turbo\",\n",
    "  messages=[\n",
    "    {\"role\": \"system\", \"content\": \"You are a helpful assistant.\"},\n",
    "    {\"role\": \"user\", \"content\": \"Hello!\"}\n",
    "  ]\n",
    ")\n",
    "\n",
    "print(completion.choices[0].message)"
   ]
  },
  {
   "cell_type": "markdown",
   "id": "3f0955fb",
   "metadata": {},
   "source": [
    "Function called get_response which takes user input of departure and arrival airports and gives airport codes."
   ]
  },
  {
   "cell_type": "code",
   "execution_count": 6,
   "id": "636a7686",
   "metadata": {},
   "outputs": [],
   "source": [
    "def get_response (prompt):\n",
    "    conversation=[{\"role\": \"system\", \"content\": \"\"\"You are a traveller assistant. You should print the airport codes. Use this format to display the results: { \"departure\" : \"code1\", \"destination\" : \"code2\" }. Text is: \"\"\"}]\n",
    "        \n",
    "    conversation.append({\"role\": \"user\", \"content\": prompt})\n",
    "\n",
    "    response = client.chat.completions.create(\n",
    "        model=\"gpt-4-turbo\", # Insert your deployed model = \"deployment_name\".\n",
    "        messages=conversation\n",
    "    )\n",
    "\n",
    "    #Another possibility: \n",
    "    #conversation.append({\"role\": \"assistant\", \"content\": response.choices[0].message.content})\n",
    "    #answer = \"\\n\" + conversation[-1][\"content\"] + \"\\n\" #-1 accesses the last element of the list and [\"content\"] accesses the content of the response\n",
    "    \n",
    "    answer = \"\\n\" + response.choices[0].message.content + \"\\n\"\n",
    "    return answer"
   ]
  },
  {
   "cell_type": "markdown",
   "id": "2741001c",
   "metadata": {},
   "source": [
    "## Testing"
   ]
  },
  {
   "cell_type": "code",
   "execution_count": 12,
   "id": "208b3fb3",
   "metadata": {},
   "outputs": [
    {
     "name": "stdout",
     "output_type": "stream",
     "text": [
      "\n",
      "{ \"departure\" : \"ORY\", \"destination\" : \"MIA\" }\n",
      "\n"
     ]
    }
   ],
   "source": [
    "prompt = \"Leaving Paris Orly to Miami\"\n",
    "print(get_response(prompt))"
   ]
  },
  {
   "cell_type": "code",
   "execution_count": 8,
   "id": "50c08f6a",
   "metadata": {},
   "outputs": [
    {
     "name": "stdout",
     "output_type": "stream",
     "text": [
      "\n",
      "{ \"departure\" : \"BRU\", \"destination\" : \"YYZ\" }\n",
      "\n"
     ]
    }
   ],
   "source": [
    "prompt = \"Let's go to Toronto from Brussels\"\n",
    "print(get_response(prompt))"
   ]
  },
  {
   "cell_type": "code",
   "execution_count": 9,
   "id": "908bf466",
   "metadata": {},
   "outputs": [
    {
     "name": "stdout",
     "output_type": "stream",
     "text": [
      "\n",
      "{ \"departure\" : \"JFK\", \"destination\" : \"LHR\" }\n",
      "\n"
     ]
    }
   ],
   "source": [
    "prompt = \"Leaving JFK for Heathrow\"\n",
    "print(get_response(prompt))"
   ]
  },
  {
   "cell_type": "code",
   "execution_count": 10,
   "id": "8b4cd088",
   "metadata": {},
   "outputs": [
    {
     "name": "stdout",
     "output_type": "stream",
     "text": [
      "\n",
      "{ \"departure\" : \"HND\", \"destination\" : \"FCO\" }\n",
      "\n"
     ]
    }
   ],
   "source": [
    "prompt = \"I want to go to Roma from Tokyo\"\n",
    "print(get_response(prompt))"
   ]
  },
  {
   "cell_type": "code",
   "execution_count": 11,
   "id": "d7e63a43",
   "metadata": {},
   "outputs": [
    {
     "name": "stdout",
     "output_type": "stream",
     "text": [
      "\n",
      "{ \"departure\" : \"SYD\", \"destination\" : \"LAX\" }\n",
      "\n"
     ]
    }
   ],
   "source": [
    "prompt = \"I am leaving Sydney to go to Los Angeles\"\n",
    "print(get_response(prompt))"
   ]
  }
 ],
 "metadata": {
  "kernelspec": {
   "display_name": "Python 3",
   "language": "python",
   "name": "python3"
  },
  "language_info": {
   "codemirror_mode": {
    "name": "ipython",
    "version": 3
   },
   "file_extension": ".py",
   "mimetype": "text/x-python",
   "name": "python",
   "nbconvert_exporter": "python",
   "pygments_lexer": "ipython3",
   "version": "3.12.3"
  }
 },
 "nbformat": 4,
 "nbformat_minor": 5
}
